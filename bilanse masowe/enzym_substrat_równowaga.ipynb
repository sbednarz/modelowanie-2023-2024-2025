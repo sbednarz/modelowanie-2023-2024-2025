{
  "nbformat": 4,
  "nbformat_minor": 0,
  "metadata": {
    "colab": {
      "provenance": []
    },
    "kernelspec": {
      "name": "python3",
      "display_name": "Python 3"
    },
    "language_info": {
      "name": "python"
    }
  },
  "cells": [
    {
      "cell_type": "code",
      "execution_count": 2,
      "metadata": {
        "id": "dquZiF_3lo4W"
      },
      "outputs": [],
      "source": [
        "import numpy as np\n",
        "from scipy.optimize import fsolve\n",
        "import matplotlib.pyplot as plt"
      ]
    },
    {
      "cell_type": "code",
      "source": [
        "# Bilans dla układu w stanie równowagi => wyzaczanie stężeń równowagowych\n",
        "#\n",
        "# E + S <=> ES\n",
        "#\n",
        "# E0 = 0.001 mol/L\n",
        "# S0 = 0.1 mol/L\n",
        "# K = 100\n"
      ],
      "metadata": {
        "id": "BQeNGbyQmca-"
      },
      "execution_count": 3,
      "outputs": []
    },
    {
      "cell_type": "code",
      "source": [
        "def model(X):\n",
        "  E,S,ES = X\n",
        "  eq1 = E0 - E - ES\n",
        "  eq2 = S0 - S - ES\n",
        "  eq3 = K*(E*S) - ES\n",
        "  return [eq1,eq2,eq3]\n",
        "\n",
        "\n",
        "E0 = 0.001 #mol/L\n",
        "S0 = 0.1 #mol/L\n",
        "K = 100\n",
        "\n",
        "guess = [1e-3, 1e-3, 1e-3] # E, S, ES\n",
        "E,S,ES = fsolve(model, guess)\n",
        "print(E,S,ES)\n"
      ],
      "metadata": {
        "colab": {
          "base_uri": "https://localhost:8080/"
        },
        "id": "jB7Mn-3Pm7DA",
        "outputId": "48c5d53f-1932-498b-8915-ca21183e9202"
      },
      "execution_count": 6,
      "outputs": [
        {
          "output_type": "stream",
          "name": "stdout",
          "text": [
            "9.166603063183451e-05 0.09909166603063184 0.0009083339693681655\n"
          ]
        }
      ]
    },
    {
      "cell_type": "code",
      "source": [
        "# wersja rozbudowana, dla różnych K (podejści automatyczne -- pętla for)\n",
        "\n",
        "\n",
        "\n",
        "def model(X):\n",
        "  E,S,ES = X\n",
        "  eq1 = E0 - E - ES\n",
        "  eq2 = S0 - S - ES\n",
        "  eq3 = K*(E*S) - ES\n",
        "  return [eq1,eq2,eq3]\n",
        "\n",
        "\n",
        "E0 = 0.001 #mol/L\n",
        "S0 = 0.1 #mol/L\n",
        "lista_K = [10, 100, 1000, 10000]\n",
        "\n",
        "for K in lista_K:\n",
        "  #iterowanie po różnych wariantach K pobieranych z listy lista_K\n",
        "  guess = [1e-3, 1e-3, 1e-3] # E, S, ES\n",
        "  E,S,ES = fsolve(model, guess)\n",
        "  print(\"Dla K=\",K, \" E=\",E,\" S=\", S, \" ES=\", ES)\n",
        "\n"
      ],
      "metadata": {
        "colab": {
          "base_uri": "https://localhost:8080/"
        },
        "id": "8ag9sZoGnJLr",
        "outputId": "a7f97a2e-6db2-4d81-ee0c-9ca2768c57b1"
      },
      "execution_count": 8,
      "outputs": [
        {
          "output_type": "stream",
          "name": "stdout",
          "text": [
            "Dla K= 10  E= 0.0005012499921875974  S= 0.09950124999218761  ES= 0.0004987500078124026\n",
            "Dla K= 100  E= 9.166603063183451e-05  S= 0.09909166603063184  ES= 0.0009083339693681655\n",
            "Dla K= 1000  E= 9.999000199949204e-06  S= 0.09900999900019995  ES= 0.0009900009998000507\n",
            "Dla K= 10000  E= 1.0090714608959311e-06  S= 0.09900100907146091  ES= 0.000998990928539104\n"
          ]
        }
      ]
    },
    {
      "cell_type": "code",
      "source": [],
      "metadata": {
        "id": "WQ1fvPFEoXE8"
      },
      "execution_count": null,
      "outputs": []
    }
  ]
}