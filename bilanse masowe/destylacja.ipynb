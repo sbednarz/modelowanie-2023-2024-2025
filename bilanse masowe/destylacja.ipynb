{
 "cells": [
  {
   "cell_type": "markdown",
   "id": "df16d9b5-4058-4719-b969-adb7296b1a0e",
   "metadata": {},
   "source": [
    "<img src=\"fig02.png\"/>"
   ]
  },
  {
   "cell_type": "code",
   "execution_count": 6,
   "id": "656963bd-dfab-47fe-9f1c-1eb9a6fb6e25",
   "metadata": {},
   "outputs": [
    {
     "name": "stdout",
     "output_type": "stream",
     "text": [
      "guess: [1, 1], F1=0.480 F3=19.520\n"
     ]
    }
   ],
   "source": [
    "import numpy as np\n",
    "from scipy.optimize import fsolve\n",
    "\n",
    "def model(X):\n",
    "    F2, F3 = X\n",
    "    eq1 = F1 - F2 - F3\n",
    "    eq2 = x1*F1 - x2*F2 - x3*F3\n",
    "    return [eq1, eq2]\n",
    "\n",
    "# some helper calculations\n",
    "F1 = 20 #kmol/h\n",
    "x1 = 2/100\n",
    "x2 = 80/100\n",
    "x3 = 0.08/100\n",
    "\n",
    "guess = [1,1]\n",
    "\n",
    "F2, F3 = fsolve(model, guess)\n",
    "\n",
    "print(\"guess: {}, F1={:.3f} F3={:.3f}\".format(guess, F2, F3))\n"
   ]
  },
  {
   "cell_type": "code",
   "execution_count": null,
   "id": "aab7af2a-f745-4d59-9e2b-60d8afe1e791",
   "metadata": {},
   "outputs": [],
   "source": []
  }
 ],
 "metadata": {
  "kernelspec": {
   "display_name": "Python 3 (ipykernel)",
   "language": "python",
   "name": "python3"
  },
  "language_info": {
   "codemirror_mode": {
    "name": "ipython",
    "version": 3
   },
   "file_extension": ".py",
   "mimetype": "text/x-python",
   "name": "python",
   "nbconvert_exporter": "python",
   "pygments_lexer": "ipython3",
   "version": "3.7.12"
  }
 },
 "nbformat": 4,
 "nbformat_minor": 5
}
