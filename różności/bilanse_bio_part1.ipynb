{
  "nbformat": 4,
  "nbformat_minor": 0,
  "metadata": {
    "colab": {
      "provenance": []
    },
    "kernelspec": {
      "name": "python3",
      "display_name": "Python 3"
    },
    "language_info": {
      "name": "python"
    }
  },
  "cells": [
    {
      "cell_type": "markdown",
      "source": [
        "## L. Krzystek \"Stechiometria i kinetyka bioprocesów\"\n",
        "## K. W. Szewczyk \"Bilansowanie i kinetyka procesów biochemicznych\"\n",
        "## J. Bałdyga, M. Henczka, W. Podgórska \"Obliczenia w inżynierii bioreaktorów\""
      ],
      "metadata": {
        "id": "vU2zTkALxPx2"
      }
    },
    {
      "cell_type": "markdown",
      "source": [
        "### Przykład 1"
      ],
      "metadata": {
        "id": "GTKfcs42tAFS"
      }
    },
    {
      "cell_type": "markdown",
      "source": [
        "Fermentacja etanolowa w warunkach beztlenowych:\n",
        "$C_6H_{12}O_6$ => $2CO_2$ + $2C_2H_5OH$"
      ],
      "metadata": {
        "id": "ZOUNhp5zqQEi"
      }
    },
    {
      "cell_type": "code",
      "source": [
        "M_glu = 6*12+12+6*16 #g/mol\n",
        "M_co2 = 12+2*16 #g/mol\n",
        "M_etoh = 2*12+5+16+1 #g/mol"
      ],
      "metadata": {
        "id": "pJtGs7hVqWbA"
      },
      "execution_count": null,
      "outputs": []
    },
    {
      "cell_type": "code",
      "source": [
        "print(\"Z\", M_glu, \"g glukozy otrzymuje się \", 2*M_etoh, \"g etanolu oraz \", 2*M_co2, \"g CO2\")"
      ],
      "metadata": {
        "colab": {
          "base_uri": "https://localhost:8080/"
        },
        "id": "g5rOD6HIq8Py",
        "outputId": "e9d9c8ff-f65a-444d-a706-80dfb7531ae4"
      },
      "execution_count": null,
      "outputs": [
        {
          "output_type": "stream",
          "name": "stdout",
          "text": [
            "Z 180 g glukozy otrzymuje się  92 g etanolu oraz  88 g CO2\n"
          ]
        }
      ]
    },
    {
      "cell_type": "markdown",
      "source": [
        "Bilans pierwiastków C, H, O\n",
        "\n",
        "Wejście:"
      ],
      "metadata": {
        "id": "BdCc7X7-r7bF"
      }
    },
    {
      "cell_type": "code",
      "source": [
        "C_in = 6*12\n",
        "H_in = 12*1\n",
        "O_in = 6*16"
      ],
      "metadata": {
        "id": "z68YmQqhrUfd"
      },
      "execution_count": null,
      "outputs": []
    },
    {
      "cell_type": "markdown",
      "source": [
        "Wyjście:"
      ],
      "metadata": {
        "id": "DYGC_M8CsXhK"
      }
    },
    {
      "cell_type": "code",
      "source": [
        "C_out = 2*12 + 4*12\n",
        "H_out = 12*1\n",
        "O_out = 4*16 + 2*16"
      ],
      "metadata": {
        "id": "jx0mqTtvsUbG"
      },
      "execution_count": null,
      "outputs": []
    },
    {
      "cell_type": "code",
      "source": [
        "print(C_in, C_out)"
      ],
      "metadata": {
        "colab": {
          "base_uri": "https://localhost:8080/"
        },
        "id": "hByYPDA3sqBj",
        "outputId": "12530d08-7018-46e2-d9aa-6ef196002d6c"
      },
      "execution_count": null,
      "outputs": [
        {
          "output_type": "stream",
          "name": "stdout",
          "text": [
            "72 72\n"
          ]
        }
      ]
    },
    {
      "cell_type": "code",
      "source": [
        "print(H_in == H_out)"
      ],
      "metadata": {
        "colab": {
          "base_uri": "https://localhost:8080/"
        },
        "id": "73d_0a2WssZ6",
        "outputId": "ace51683-ceb3-4638-f356-e4feec474572"
      },
      "execution_count": null,
      "outputs": [
        {
          "output_type": "stream",
          "name": "stdout",
          "text": [
            "True\n"
          ]
        }
      ]
    },
    {
      "cell_type": "code",
      "source": [
        "print(O_in == O_out)"
      ],
      "metadata": {
        "colab": {
          "base_uri": "https://localhost:8080/"
        },
        "id": "iVOmhQHGszOE",
        "outputId": "1c136306-da69-4e3b-fcab-b0db92496920"
      },
      "execution_count": null,
      "outputs": [
        {
          "output_type": "stream",
          "name": "stdout",
          "text": [
            "True\n"
          ]
        }
      ]
    },
    {
      "cell_type": "markdown",
      "source": [
        "Maksymalna wydajność bioprodukcji etanolu:"
      ],
      "metadata": {
        "id": "vvyCnvUQtYcg"
      }
    },
    {
      "cell_type": "code",
      "source": [
        "print(\"{:.2f} gEtOH/gGlukozy\".format(2*M_etoh / M_glu))"
      ],
      "metadata": {
        "colab": {
          "base_uri": "https://localhost:8080/"
        },
        "id": "YsASYWl4s30N",
        "outputId": "c1381afe-0e2f-430e-8cec-ca42a7b20f41"
      },
      "execution_count": null,
      "outputs": [
        {
          "output_type": "stream",
          "name": "stdout",
          "text": [
            "0.51 gEtOH/gGlukozy\n"
          ]
        }
      ]
    },
    {
      "cell_type": "markdown",
      "source": [
        "### Przykład 2"
      ],
      "metadata": {
        "id": "4U0h32qytNW4"
      }
    },
    {
      "cell_type": "markdown",
      "source": [
        "Znając wzór elementanry *Saccharomyces* *cerevisiae*: $CH_{1.64}O_{0.52}N_{0.16}$\n",
        "oszacować jaka minimalna ilość glukozy i azotu w formie $(NH_4)_2SO_4$ jest potrzebna do otrzymania 1kg drożdży piekarskich?\n",
        "\n",
        "[dygresja - popiół 3-10% wag./sole mineralne]  "
      ],
      "metadata": {
        "id": "6YhgnHzeukbY"
      }
    },
    {
      "cell_type": "code",
      "source": [
        "M_yeast = 12 + 1.64 + 0.52*16 + 0.16*14 # g/C-mol"
      ],
      "metadata": {
        "id": "ny3IAgjMtPqG"
      },
      "execution_count": null,
      "outputs": []
    },
    {
      "cell_type": "code",
      "source": [
        "print(M_yeast)"
      ],
      "metadata": {
        "colab": {
          "base_uri": "https://localhost:8080/"
        },
        "id": "XvnTJDfimg2Y",
        "outputId": "528d1d4c-29c8-45b8-bba9-f05994fc2723"
      },
      "execution_count": null,
      "outputs": [
        {
          "output_type": "stream",
          "name": "stdout",
          "text": [
            "24.200000000000003\n"
          ]
        }
      ]
    },
    {
      "cell_type": "code",
      "source": [
        "# 12g C => 24.2 g drożdży\n",
        "# 0.16*14g N => 24.2 g drożdży\n",
        "\n",
        "# x => 1000g\n",
        "\n",
        "m_C = (1000*12)/M_yeast\n",
        "m_N = (1000*0.16*14)/M_yeast\n"
      ],
      "metadata": {
        "id": "gLA3du5KnIdi"
      },
      "execution_count": null,
      "outputs": []
    },
    {
      "cell_type": "code",
      "source": [
        "print(\"{:.2f}g C {:.2f} g N na 1000g drożdży\".format(m_C, m_N))"
      ],
      "metadata": {
        "colab": {
          "base_uri": "https://localhost:8080/"
        },
        "id": "y50am10anlrR",
        "outputId": "cb1d1aa3-6b59-4d11-8296-494793d05f5e"
      },
      "execution_count": null,
      "outputs": [
        {
          "output_type": "stream",
          "name": "stdout",
          "text": [
            "495.87g C 92.56 g N na 1000g drożdży\n"
          ]
        }
      ]
    },
    {
      "cell_type": "code",
      "source": [
        "print(M_glu)"
      ],
      "metadata": {
        "colab": {
          "base_uri": "https://localhost:8080/"
        },
        "id": "kuYbgfMInntZ",
        "outputId": "c085e27f-2d13-4721-b3c7-9a5eb72cf7ec"
      },
      "execution_count": null,
      "outputs": [
        {
          "output_type": "stream",
          "name": "stdout",
          "text": [
            "180\n"
          ]
        }
      ]
    },
    {
      "cell_type": "code",
      "source": [
        "# C6H12O6\n",
        "# 6*12\n",
        "\n",
        "# 180g glukozy => 6*12g C\n",
        "# x => m_C\n",
        "\n",
        "m_glu = (M_glu*m_C)/(6*12)"
      ],
      "metadata": {
        "id": "A6Cq7tuXn-gQ"
      },
      "execution_count": null,
      "outputs": []
    },
    {
      "cell_type": "code",
      "source": [
        "print(m_glu)"
      ],
      "metadata": {
        "colab": {
          "base_uri": "https://localhost:8080/"
        },
        "id": "NjmjEhd_osA-",
        "outputId": "7ea2e8f4-f737-4869-e752-4a7fe24113c9"
      },
      "execution_count": null,
      "outputs": [
        {
          "output_type": "stream",
          "name": "stdout",
          "text": [
            "1239.6694214876031\n"
          ]
        }
      ]
    },
    {
      "cell_type": "code",
      "source": [
        "# M (NH4)2SO4 = 132.14 g/mol\n",
        "# 2*14g N\n",
        "\n",
        "# 132.14g soli amonomwe => 2*14g N\n",
        "# x => m_N\n",
        "\n",
        "M_soli = 132.14\n",
        "m_soli = (M_soli*m_N)/(2*14)\n",
        "print(m_soli)"
      ],
      "metadata": {
        "colab": {
          "base_uri": "https://localhost:8080/"
        },
        "id": "o3kHzPqqot-e",
        "outputId": "ebc968dc-ea96-4783-99a4-da3740b021f5"
      },
      "execution_count": null,
      "outputs": [
        {
          "output_type": "stream",
          "name": "stdout",
          "text": [
            "436.82644628099166\n"
          ]
        }
      ]
    },
    {
      "cell_type": "code",
      "source": [
        "print(\"Minimalna ilość glukozy i siarczanu amonu potrzebna do wyprodukowania\\\n",
        " 1000g drożdży wynosi odpowiednio {:.2f}g i {:.2f}g.\".format(m_glu, m_soli))"
      ],
      "metadata": {
        "colab": {
          "base_uri": "https://localhost:8080/"
        },
        "id": "ATBwmQwqpese",
        "outputId": "959696d1-15fe-4183-cab3-3cd8ae53f7ab"
      },
      "execution_count": null,
      "outputs": [
        {
          "output_type": "stream",
          "name": "stdout",
          "text": [
            "Minimalna ilość glukozy i siarczanu amonu potrzebna do wyprodukowania 1000g drożdży wynosi odpowiednio 1239.67g i 436.83g.\n"
          ]
        }
      ]
    },
    {
      "cell_type": "code",
      "source": [
        "# masowy współczynnik wydajności (ilość biomasy powstającej przy asymilacji jednostki masy substratu):\n",
        "Y_xs = 1000/m_glu\n",
        "print(\"{:.2f}\".format(Y_xs))"
      ],
      "metadata": {
        "colab": {
          "base_uri": "https://localhost:8080/"
        },
        "id": "vvC8ZDTcy_pK",
        "outputId": "1a057f3c-3486-435e-ae83-9cf6bdf6825c"
      },
      "execution_count": null,
      "outputs": [
        {
          "output_type": "stream",
          "name": "stdout",
          "text": [
            "0.81\n"
          ]
        }
      ]
    },
    {
      "cell_type": "markdown",
      "source": [
        "### Przykład 3"
      ],
      "metadata": {
        "id": "il7W0xo7qExo"
      }
    },
    {
      "cell_type": "markdown",
      "source": [
        "substraty $→$ biomasa + produkt + woda + dwutlenek węgla\n",
        "\n",
        "$CH_iO_j$ + $aNH_3$ + $bO_2$ $→$ $cCH_kO_lN_m$ + $dCH_nO_oN_p$ + $eH_2O$ + $fCO_2$\n",
        "\n",
        "\n",
        "Bilans pierwiastkowy:\n",
        "\n",
        "C: 1 = c + d + f\n",
        "\n",
        "H: i + 3a = ck + dn + 2e\n",
        "\n",
        "O: j + 2b = cl + do + e + 2f\n",
        "\n",
        "N: a = cm + dp"
      ],
      "metadata": {
        "id": "ietVRNhWt3uW"
      }
    },
    {
      "cell_type": "markdown",
      "source": [
        "### Przykład 4"
      ],
      "metadata": {
        "id": "99PdOERp3wKl"
      }
    },
    {
      "cell_type": "markdown",
      "source": [
        "Wyznaczyc współczynniki stechiometryczne sumarycznego równania obrazującego proces hodowli komórek drożdży, w podłożu zawierającym heksadekan i amoniak jako źródła, odpowiednio, węgla i azotu, znając wartość ilorazu oddechowego wynoszącą RQ=0.3:\n",
        "\n",
        "\n",
        "$aCH_{2.125}$ + $bO_2$ + $cNH_3$ $→$ $CH_{1.166}O_{0.27}N_{0.2}$ +  $dH_2O$ + $eCO_2$\n",
        "\n",
        "[Krzystek, przykład 12]"
      ],
      "metadata": {
        "id": "xhZLAJvu4vw4"
      }
    },
    {
      "cell_type": "code",
      "source": [
        "# RQ = mol tworzonego CO2 / mol zuzywanego O2 = e/b = 0.3\n",
        "RQ = 0.3"
      ],
      "metadata": {
        "id": "Wl2vz-d43vgV"
      },
      "execution_count": null,
      "outputs": []
    },
    {
      "cell_type": "code",
      "source": [
        "from scipy.optimize import fsolve\n",
        "import numpy as np\n",
        "\n",
        "\n",
        "def model(X):\n",
        "  a,b,c,d,e = X\n",
        "  eq1 = -a + 1 + e                   # C\n",
        "  eq2 = -a*2.125 - c*3 + 1.66 + 2*d  # H\n",
        "  eq3 = -2*b + 0.27 + d + 2*e        # O\n",
        "  eq4 =  -c + 0.2                    # N\n",
        "  eq5 = e/b - 0.3                    # def. RQ\n",
        "  return [eq1, eq2, eq3, eq4, eq5]\n"
      ],
      "metadata": {
        "id": "Q4Rl1PUI6Gs-"
      },
      "execution_count": null,
      "outputs": []
    },
    {
      "cell_type": "code",
      "source": [
        "guess = [1,1,1,1,1]\n",
        "[a,b,c,d,e] = fsolve(model, guess)\n",
        "print(\"Współczynniki: a={:.3f} b={:.3f} c={:.3f} d={:.3f} e={:.3f}\".format(a,b,c,d,e))"
      ],
      "metadata": {
        "colab": {
          "base_uri": "https://localhost:8080/"
        },
        "id": "XYhebc9b7EPc",
        "outputId": "e5cbd92a-2ad7-4b8f-cbdf-7b2555a3a8c7"
      },
      "execution_count": null,
      "outputs": [
        {
          "output_type": "stream",
          "name": "stdout",
          "text": [
            "Współczynniki: a=1.223 b=0.742 c=0.200 d=0.769 e=0.223\n"
          ]
        }
      ]
    },
    {
      "cell_type": "code",
      "source": [],
      "metadata": {
        "id": "ZebY2gV68Orq"
      },
      "execution_count": null,
      "outputs": []
    }
  ]
}