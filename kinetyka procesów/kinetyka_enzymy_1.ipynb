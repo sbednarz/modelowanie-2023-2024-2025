{
 "cells": [
  {
   "cell_type": "markdown",
   "metadata": {},
   "source": [
    "** Literatura (gorąco) polecana: \"Elementy enzymologii\" red. J. Witwicki i W. Ardelt, PWN, Warszawa 1984 **"
   ]
  },
  {
   "cell_type": "markdown",
   "metadata": {},
   "source": [
    "#### Zamiast wstępu ...\n",
    "Jak zależy szybkość początkowa reakcji (v0) od stężenia początkowego jednego z reagentów? Narysować wykres v0=f(A0).\n",
    "\n",
    "$$ A + B \\rightarrow P $$\n",
    "\n",
    "\n",
    "Dla: $[B]_0$ = 0.01, k = 1e-5, $A0 = 0.001, 0.01, 0.05, 0.1, 0.5, 1$\n"
   ]
  },
  {
   "cell_type": "code",
   "execution_count": 1,
   "metadata": {
    "collapsed": false
   },
   "outputs": [
    {
     "name": "stdout",
     "output_type": "stream",
     "text": [
      "0.001 9.99596150452e-09\n",
      "0.01 9.99266292897e-08\n",
      "0.05 4.98901732934e-07\n",
      "0.1 9.95982261302e-07\n",
      "0.5 4.9075410311e-06\n",
      "1 9.63826874541e-06\n",
      "2 1.85938213348e-05\n",
      "5 4.18332719832e-05\n"
     ]
    },
    {
     "data": {
      "text/plain": [
       "[<matplotlib.lines.Line2D at 0x7fc984adcf50>]"
      ]
     },
     "execution_count": 1,
     "metadata": {},
     "output_type": "execute_result"
    },
    {
     "data": {
      "image/png": "[encoded data removed]",
      "text/plain": [
       "<matplotlib.figure.Figure at 0x7fc98d598b90>"
      ]
     },
     "metadata": {},
     "output_type": "display_data"
    }
   ],
   "source": [
    "%matplotlib inline\n",
    "import matplotlib.pyplot as plt\n",
    "\n",
    "import numpy as np\n",
    "from scipy.integrate import odeint\n",
    "\n",
    "\n",
    "    \n",
    "def model(y, t):\n",
    "    \n",
    "    a = y[0]\n",
    "    b = y[1]\n",
    "    p = y[2]\n",
    "    \n",
    "    k = 1e-3\n",
    "    \n",
    "    dadt = -k*a*b\n",
    "    dbdt = -k*a*b\n",
    "    dpdt = k*a*b\n",
    "    \n",
    "    return [dadt, dbdt, dpdt]\n",
    "\n",
    "\n",
    "#przedział czasu\n",
    "t_start = 0\n",
    "t_end = 3600\n",
    "t = np.linspace(t_start, t_end)\n",
    "\n",
    "# listy zawierające wyniki\n",
    "xx = []\n",
    "yy = []\n",
    "\n",
    "for a0 in [0.001,0.01,0.05,0.1,0.5,1,2,5]:\n",
    "    res = odeint( model, [a0, 0.01, 0], t ) # [a0, b0, p0]\n",
    "    a=res[:,0]\n",
    "    b=res[:,1]\n",
    "    p=res[:,2]\n",
    "    v0=-(a[1]-a[0])/(t[1]-t[0])            # por. porzednie zajęcia\n",
    "    print a0, v0\n",
    "    xx.append(a0)\n",
    "    yy.append(v0)\n",
    "    \n",
    "plt.xlabel(\"[A]0\")\n",
    "plt.ylabel(\"v0\")\n",
    "plt.plot(xx, yy, 'bo-')"
   ]
  },
  {
   "cell_type": "markdown",
   "metadata": {
    "collapsed": true
   },
   "source": [
    "Model kinetyczny reakcji enzymatycznej:\n",
    "\n",
    "1)$$ S + E \\longleftrightarrow ES , k1, k2 $$\n",
    "2)$$ ES \\longrightarrow P + E , k3 $$\n",
    "\n"
   ]
  },
  {
   "cell_type": "code",
   "execution_count": 2,
   "metadata": {
    "collapsed": false
   },
   "outputs": [
    {
     "data": {
      "text/plain": [
       "<function matplotlib.pyplot.show>"
      ]
     },
     "execution_count": 2,
     "metadata": {},
     "output_type": "execute_result"
    },
    {
     "data": {
      "image/png": "[encoded data removed]",
      "text/plain": [
       "<matplotlib.figure.Figure at 0x7fc98d5ba550>"
      ]
     },
     "metadata": {},
     "output_type": "display_data"
    }
   ],
   "source": [
    "%matplotlib inline\n",
    "import matplotlib.pyplot as plt\n",
    "\n",
    "import numpy as np\n",
    "from scipy.integrate import odeint\n",
    "\n",
    "\n",
    "# r. enzymatyczna\n",
    "# E + S <--> ES, k1 k2\n",
    "# ES --> P + E, k3\n",
    "    \n",
    "k1 = 1e4\n",
    "k2 = 25\n",
    "k3 = 15\n",
    "    \n",
    "def model(y, t):\n",
    "    \n",
    "    s = y[0]\n",
    "    e = y[1]\n",
    "    es = y[2]\n",
    "    p = y[3]\n",
    "    \n",
    "    dsdt = -k1*s*e + k2*es\n",
    "    dedt = -k1*s*e + k2*es + k3*es\n",
    "    desdt = k1*s*e - k2*es - k3*es\n",
    "    dpdt = k3*es\n",
    "    \n",
    "    return [dsdt, dedt, desdt, dpdt]\n",
    "\n",
    "#stężenie początkowe substratu i enzymu\n",
    "s0 = 0.01\n",
    "e0 = 0.00005\n",
    "\n",
    "#przedział czasu\n",
    "t_start = 0\n",
    "t_end = 60\n",
    "\n",
    "\n",
    "initial = [s0, e0, 0, 0]\n",
    "t = np.linspace(t_start, t_end) # ts => time\n",
    "\n",
    "res = odeint( model, [s0, e0, 0, 0], t )\n",
    "s = res[:,0]\n",
    "e = res[:,1]\n",
    "es = res[:,2]\n",
    "p = res[:,3]\n",
    "\n",
    "plt.plot(t,s,'r.', label='[S]')\n",
    "plt.plot(t,p,'b.', label='[P]')\n",
    "plt.plot(t,e,'y.', label='[E]')\n",
    "plt.plot(t,es,'g.', label='[ES]')\n",
    "plt.legend(loc='upper left', bbox_to_anchor=(1, 0.5))\n",
    "plt.xlabel('Czas reakcji')\n",
    "plt.ylabel('Stezenie reagentow')\n",
    "plt.show"
   ]
  },
  {
   "cell_type": "markdown",
   "metadata": {},
   "source": [
    "##### Pytania:\n",
    "\n",
    "Jakie wartości podczas reakcji ma stężenie E i kompleksu aktywnego ES?\n",
    "\n",
    "Dla jakiego przedziału czasu można stosować przybliżenie stanu quasi-stacjonarnego dla ES, czyli że $\\frac{d[ES]}{dt}=0$?\n",
    "\n",
    "Co się dzieje z enzymem na początku reakcji ($t \\approx$ 0) i po wyczerpaniu się substratu ( w tym przykładzie dla $t$ > 40)? Jakie są stężenia enzymu (skala wykresu)?"
   ]
  },
  {
   "cell_type": "code",
   "execution_count": null,
   "metadata": {
    "collapsed": true
   },
   "outputs": [],
   "source": []
  },
  {
   "cell_type": "markdown",
   "metadata": {},
   "source": [
    "** Zadanie 1. ** Przyjrzeć się modelowi reakcji enzymatycznej, zbadać zależność v0 = f(S0) (wykres)."
   ]
  },
  {
   "cell_type": "code",
   "execution_count": 3,
   "metadata": {
    "collapsed": true
   },
   "outputs": [],
   "source": [
    "# tutaj rozwiązanie ..."
   ]
  },
  {
   "cell_type": "markdown",
   "metadata": {},
   "source": [
    "#### Równanie Michelisa-Menten / Briggisa i Haldene'a - analiza"
   ]
  },
  {
   "cell_type": "markdown",
   "metadata": {},
   "source": [
    "$$v_0 = \\frac{v_{max}[S]_0}{[S]_0+K_m}$$\n",
    "\n",
    "\n",
    "$$v_{max} = k_3[E]_0$$\n",
    "\n",
    "$$K_m = \\frac{k_2 + k_3}{k_1}$$"
   ]
  },
  {
   "cell_type": "code",
   "execution_count": 4,
   "metadata": {
    "collapsed": true
   },
   "outputs": [],
   "source": [
    "# funkcja która oblicza szybkość początkową z modelu M-M\n",
    "\n",
    "def MM(s0, vmax, Km):\n",
    "    return (vmax*s0)/(s0+Km)"
   ]
  },
  {
   "cell_type": "code",
   "execution_count": 5,
   "metadata": {
    "collapsed": false
   },
   "outputs": [
    {
     "name": "stdout",
     "output_type": "stream",
     "text": [
      "v_max = 7.50e-04 Km = 4.00e-03\n"
     ]
    }
   ],
   "source": [
    "vmax = k3*e0\n",
    "Km = (k2+k3)/k1\n",
    "print(\"v_max = {0:.2e} Km = {1:.2e}\".format(vmax, Km))"
   ]
  },
  {
   "cell_type": "code",
   "execution_count": 6,
   "metadata": {
    "collapsed": true
   },
   "outputs": [],
   "source": [
    "s0_min = 0.001\n",
    "s0_max = 0.1\n",
    "s0 = np.linspace(s0_min, s0_max, 20)"
   ]
  },
  {
   "cell_type": "code",
   "execution_count": 7,
   "metadata": {
    "collapsed": false
   },
   "outputs": [
    {
     "name": "stdout",
     "output_type": "stream",
     "text": [
      "[ 0.001       0.00621053  0.01142105  0.01663158  0.02184211  0.02705263\n",
      "  0.03226316  0.03747368  0.04268421  0.04789474  0.05310526  0.05831579\n",
      "  0.06352632  0.06873684  0.07394737  0.07915789  0.08436842  0.08957895\n",
      "  0.09478947  0.1       ]\n"
     ]
    }
   ],
   "source": [
    "print(s0)"
   ]
  },
  {
   "cell_type": "code",
   "execution_count": 8,
   "metadata": {
    "collapsed": true
   },
   "outputs": [],
   "source": [
    "v0 = MM(s0, vmax, Km)"
   ]
  },
  {
   "cell_type": "code",
   "execution_count": 9,
   "metadata": {
    "collapsed": false
   },
   "outputs": [
    {
     "name": "stdout",
     "output_type": "stream",
     "text": [
      "[ 0.00015     0.00045619  0.00055546  0.00060459  0.00063391  0.00065339\n",
      "  0.00066727  0.00067766  0.00068574  0.00069219  0.00069747  0.00070186\n",
      "  0.00070557  0.00070876  0.00071151  0.00071392  0.00071605  0.00071794\n",
      "  0.00071963  0.00072115]\n"
     ]
    }
   ],
   "source": [
    "print(v0)"
   ]
  },
  {
   "cell_type": "code",
   "execution_count": 10,
   "metadata": {
    "collapsed": false
   },
   "outputs": [
    {
     "data": {
      "text/plain": [
       "<function matplotlib.pyplot.show>"
      ]
     },
     "execution_count": 10,
     "metadata": {},
     "output_type": "execute_result"
    },
    {
     "data": {
      "image/png": "[encoded data removed]",
      "text/plain": [
       "<matplotlib.figure.Figure at 0x7fc98d2ec350>"
      ]
     },
     "metadata": {},
     "output_type": "display_data"
    }
   ],
   "source": [
    "#\n",
    "plt.plot(s0,v0,'go', label='v0')\n",
    "plt.plot((s0_min, s0_max),(vmax, vmax),'r:', label='vmax')\n",
    "plt.plot((s0_min, s0_max),(vmax/2, vmax/2),'g:', label='vmax / 2')\n",
    "plt.plot(Km,vmax/2,'k*', label='[S]0 = Km')\n",
    "plt.plot((Km, Km), (vmax/2, 0), 'g:')\n",
    "\n",
    "plt.legend(loc='upper left', bbox_to_anchor=(1, 0.65))\n",
    "plt.xlabel('Poczatkowe stezenie substratu, [S]0')\n",
    "plt.ylabel('Szybkosc poczatkowa, v0')\n",
    "plt.show\n"
   ]
  },
  {
   "cell_type": "markdown",
   "metadata": {},
   "source": [
    "** Wariant 1 **\n",
    "\n",
    "Dla $[S]_0 \\ll K_m$\n"
   ]
  },
  {
   "cell_type": "code",
   "execution_count": 11,
   "metadata": {
    "collapsed": false
   },
   "outputs": [
    {
     "name": "stdout",
     "output_type": "stream",
     "text": [
      "0.004\n"
     ]
    }
   ],
   "source": [
    "print(Km)"
   ]
  },
  {
   "cell_type": "code",
   "execution_count": 12,
   "metadata": {
    "collapsed": false
   },
   "outputs": [
    {
     "data": {
      "text/plain": [
       "<function matplotlib.pyplot.show>"
      ]
     },
     "execution_count": 12,
     "metadata": {},
     "output_type": "execute_result"
    },
    {
     "data": {
      "image/png": "[encoded data removed]",
      "text/plain": [
       "<matplotlib.figure.Figure at 0x7fc98d2e9290>"
      ]
     },
     "metadata": {},
     "output_type": "display_data"
    }
   ],
   "source": [
    "s0_min = 0.0001\n",
    "s0_max = 0.001\n",
    "\n",
    "s0 = np.linspace(s0_min, s0_max, 20)\n",
    "\n",
    "v0 = MM(s0, vmax, Km)\n",
    "\n",
    "plt.plot(s0,v0,'go', label='v0')\n",
    "\n",
    "plt.legend(loc='upper left', bbox_to_anchor=(1, 0.5))\n",
    "plt.xlabel('Poczatkowe stezenie substratu, [S]0')\n",
    "plt.ylabel('Szybkosc poczatkowa, v0')\n",
    "plt.show"
   ]
  },
  {
   "cell_type": "markdown",
   "metadata": {},
   "source": [
    "Czyli dla dla $[S]_0 \\ll K_m$, $v_0 \\propto [S]_0 \\Rightarrow$ zatem jest to reakcja rzędu pierwszego względem substratu S."
   ]
  },
  {
   "cell_type": "markdown",
   "metadata": {
    "collapsed": true
   },
   "source": [
    "** Wariant 2. **\n",
    "\n",
    "Dla $[S]_0 \\gg K_m$"
   ]
  },
  {
   "cell_type": "code",
   "execution_count": 13,
   "metadata": {
    "collapsed": false
   },
   "outputs": [
    {
     "name": "stdout",
     "output_type": "stream",
     "text": [
      "0.004\n"
     ]
    }
   ],
   "source": [
    "print(Km)"
   ]
  },
  {
   "cell_type": "code",
   "execution_count": 14,
   "metadata": {
    "collapsed": false
   },
   "outputs": [
    {
     "data": {
      "text/plain": [
       "<function matplotlib.pyplot.show>"
      ]
     },
     "execution_count": 14,
     "metadata": {},
     "output_type": "execute_result"
    },
    {
     "data": {
      "image/png": "[encoded data removed]",
      "text/plain": [
       "<matplotlib.figure.Figure at 0x7fc984890690>"
      ]
     },
     "metadata": {},
     "output_type": "display_data"
    }
   ],
   "source": [
    "s0_min = 0.2\n",
    "s0_max = 1\n",
    "\n",
    "s0 = np.linspace(s0_min, s0_max, 20)\n",
    "\n",
    "v0 = MM(s0, vmax, Km)\n",
    "\n",
    "plt.ylim([0.0006,0.000755])\n",
    "plt.plot((s0_min, s0_max),(vmax, vmax),'r:', label='vmax')\n",
    "\n",
    "plt.plot(s0,v0,'go', label='v0')\n",
    "plt.legend(loc='upper left', bbox_to_anchor=(1, 0.5))\n",
    "plt.xlabel('Poczatkowe stezenie substratu, [S]0')\n",
    "plt.ylabel('Szybkosc poczatkowa, v0')\n",
    "plt.show"
   ]
  },
  {
   "cell_type": "markdown",
   "metadata": {},
   "source": [
    "Czyli dla Dla $[S]_0 \\gg K_m$, v0 nie zależy od [S]0, v0 $\\approx$ const, zatem jest to kinetyka zerowego rzędu względem substratu."
   ]
  },
  {
   "cell_type": "code",
   "execution_count": null,
   "metadata": {
    "collapsed": true
   },
   "outputs": [],
   "source": []
  },
  {
   "cell_type": "markdown",
   "metadata": {
    "collapsed": true
   },
   "source": [
    "** Zadanie 2. **\n",
    "\n",
    "Opracować model kinetyczny reakcji enzymatycznej, uwzględniający dezaktywację termiczną enzymu (3):\n",
    "\n",
    "1)$$ S + E \\longleftrightarrow ES , k1, k2 $$\n",
    "2)$$ ES \\longrightarrow P + E , k3 $$\n",
    "3)$$ E  \\longrightarrow F , kd $$\n",
    "\n",
    "Założyć:\n",
    "\n",
    "k1 = 1e4\n",
    "k2 = 25\n",
    "k3 = 15\n",
    "\n",
    "\n",
    "Porówanać przebieg procesu (P(t)) dla kd= 0, 1e-5, 1e-2 (wykres)."
   ]
  },
  {
   "cell_type": "code",
   "execution_count": null,
   "metadata": {
    "collapsed": true
   },
   "outputs": [],
   "source": [
    "# rozwiązanie ..."
   ]
  },
  {
   "cell_type": "markdown",
   "metadata": {},
   "source": [
    "** Zadanie 3. **\n",
    "\n",
    "Opracować model kinetyczny reakcji enzymatycznej, inhibitowanej substratem (patrz inwertaza):\n",
    "\n",
    "1)$$ S + E \\longleftrightarrow ES , k1, k2 $$\n",
    "2)$$ ES \\longrightarrow P + E , k3 $$\n",
    "3)$$ ES + S  \\longleftrightarrow ESS , k4, k5 $$\n",
    "\n",
    "Która z form enzymu jest nieaktywną?\n",
    "\n",
    "W obliczeniach założyć:\n",
    "\n",
    "k1 = 1e4\n",
    "k2 = 25\n",
    "k3 = 15\n",
    "k4 = ...\n",
    "k5 = ...\n",
    "\n",
    "\n",
    "Porówanać przebieg procesu P(t) - wykres przy różnym stopniu inhibicji.\n"
   ]
  },
  {
   "cell_type": "code",
   "execution_count": 15,
   "metadata": {
    "collapsed": true
   },
   "outputs": [],
   "source": [
    "# rozwiązanie ..."
   ]
  }
 ],
 "metadata": {
  "kernelspec": {
   "display_name": "Python 2",
   "language": "python",
   "name": "python2"
  },
  "language_info": {
   "codemirror_mode": {
    "name": "ipython",
    "version": 2
   },
   "file_extension": ".py",
   "mimetype": "text/x-python",
   "name": "python",
   "nbconvert_exporter": "python",
   "pygments_lexer": "ipython2",
   "version": "2.7.10"
  }
 },
 "nbformat": 4,
 "nbformat_minor": 0
}
