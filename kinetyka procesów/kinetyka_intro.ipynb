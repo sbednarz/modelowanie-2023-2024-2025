{
 "cells": [
  {
   "cell_type": "markdown",
   "metadata": {},
   "source": [
    "# Kinetyka chemiczna cz.1\n",
    "\n",
    "### Przykład 1. Kinetyka pierwszego rzędu\n",
    "Rozważmy reakcję pierwszego rzędu:\n",
    "\n",
    "$$ A \\rightarrow B $$\n",
    "\n",
    "\n",
    "$$-\\frac{d[A]}{dt}=k[A]$$\n",
    "\n",
    "rozdzielenie zmiennych i całkowanie stronami daje:\n",
    "\n",
    "\n",
    "$$\\int_{[A]_0}^{[A]} - \\frac{1}{[A]} d[A] = ln([A]_0) - ln([A])$$ \n",
    "\n",
    "$$\\int_{0}^{t}kdt = kt $$\n",
    "\n",
    "czyli:\n",
    "\n",
    "$$ ln([A]_0) - ln([A]) = kt $$\n",
    "\n",
    "lub w innej postaci:\n",
    "\n",
    "$$[A] = [A]_0\\exp(-kt) $$ \n",
    "\n",
    "\n",
    "A teraz całkowanie numeryczne: \n"
   ]
  },
  {
   "cell_type": "code",
   "execution_count": 9,
   "metadata": {
    "collapsed": false
   },
   "outputs": [
    {
     "data": {
      "text/plain": [
       "<matplotlib.text.Text at 0x7f0fab3b5590>"
      ]
     },
     "execution_count": 9,
     "metadata": {},
     "output_type": "execute_result"
    },
    {
     "data": {
      "image/png": "[encoded data removed]",
      "text/plain": [
       "<matplotlib.figure.Figure at 0x7f0fab47f550>"
      ]
     },
     "metadata": {},
     "output_type": "display_data"
    }
   ],
   "source": [
    "%matplotlib inline\n",
    "import matplotlib.pyplot as plt\n",
    "import numpy as np\n",
    "from scipy.integrate import odeint\n",
    "from scipy.misc import derivative\n",
    "\n",
    "\n",
    "k = 1.4e-3 # 1/s  \n",
    "\n",
    "# A -> B, k\n",
    "def model(y, t):\n",
    "    a = y[0]\n",
    "    dadt = -k*a      # da/dt = ka\n",
    "    return [dadt]\n",
    "\n",
    "a0 = 2 # mol/L\n",
    "initial = [a0]         # [A]0 = 1.2 mol/L\n",
    "\n",
    "t = np.linspace(0, 2000,25) # ts => time\n",
    "\n",
    "res = odeint( model, initial, t )\n",
    "a = res[:,0]\n",
    "\n",
    "#rozwiazanie analityczne\n",
    "def y(t):\n",
    "    return a0*np.exp(-k*t)\n",
    "\n",
    "plt.plot(t,a,'o')\n",
    "plt.plot(t,y(t),'-')\n",
    "plt.xlabel('Czas, s')\n",
    "plt.ylabel('[A], mol/L')"
   ]
  },
  {
   "cell_type": "code",
   "execution_count": 10,
   "metadata": {
    "collapsed": false
   },
   "outputs": [
    {
     "data": {
      "text/plain": [
       "[(0.0, 0.0028),\n",
       " (83.333333333333329, 0.0024916690095742465),\n",
       " (166.66666666666666, 0.0022172908153332877),\n",
       " (250.0, 0.001973126646256707),\n",
       " (333.33333333333331, 0.0017558494637828796),\n",
       " (416.66666666666663, 0.0015624984445297492),\n",
       " (500.0, 0.0013904388865332035),\n",
       " (583.33333333333326, 0.0012373262240388968),\n",
       " (666.66666666666663, 0.0011010740877845347),\n",
       " (750.0, 0.00097982571839167376),\n",
       " (833.33333333333326, 0.00087192905498652631),\n",
       " (916.66666666666663, 0.00077591376474180128),\n",
       " (1000.0, 0.00069047151523161389),\n",
       " (1083.3333333333333, 0.00061443801328313341),\n",
       " (1166.6666666666665, 0.00054677718650760247),\n",
       " (1250.0, 0.00048656705016707653),\n",
       " (1333.3333333333333, 0.00043298714051264825),\n",
       " (1416.6666666666665, 0.00038530735880576964),\n",
       " (1500.0, 0.0003428779912297367),\n",
       " (1583.3333333333333, 0.00030512087042236562),\n",
       " (1666.6666666666665, 0.0002715214968700805),\n",
       " (1750.0, 0.0002416220270713818),\n",
       " (1833.3333333333333, 0.00021501503413289216),\n",
       " (1916.6666666666665, 0.00019133795714037653),\n",
       " (2000.0, 0.0001702681577208017)]"
      ]
     },
     "execution_count": 10,
     "metadata": {},
     "output_type": "execute_result"
    },
    {
     "data": {
      "image/png": "[encoded data removed]",
      "text/plain": [
       "<matplotlib.figure.Figure at 0x7f0fab35bc90>"
      ]
     },
     "metadata": {},
     "output_type": "display_data"
    }
   ],
   "source": [
    "# szybkość zmian stężenia A === \"szybkość reakcji\" w funkcji czasu\n",
    "\n",
    "va = k*a\n",
    "plt.plot(t,va,'c-')\n",
    "plt.plot(t, -derivative(y, t), 'go')\n",
    "plt.xlabel('Czas')\n",
    "plt.ylabel('Szybkosc zmian [A], d[A]/dt mol/L')\n",
    "\n",
    "# szybkości va po czasie:\n",
    "zip(t,va)\n",
    "# czas, va"
   ]
  },
  {
   "cell_type": "code",
   "execution_count": 19,
   "metadata": {
    "collapsed": false
   },
   "outputs": [
    {
     "data": {
      "text/plain": [
       "[(0.0, 40.0),\n",
       " (24.489795918367346, 39.990669655545965),\n",
       " (48.979591836734691, 39.982211642765876),\n",
       " (73.469387755102034, 39.97454409239154),\n",
       " (97.959183673469383, 39.967592875199841),\n",
       " (122.44897959183673, 39.961290836237644),\n",
       " (146.93877551020407, 39.955577216306814),\n",
       " (171.42857142857142, 39.950396893500283),\n",
       " (195.91836734693877, 39.945699968909736),\n",
       " (220.40816326530611, 39.941441250390092),\n",
       " (244.89795918367346, 39.937579767802788),\n",
       " (269.38775510204079, 39.934078404065872),\n",
       " (293.87755102040813, 39.930903520254247),\n",
       " (318.36734693877548, 39.928024629454605),\n",
       " (342.85714285714283, 39.925414101875234),\n",
       " (367.34693877551018, 39.923046882813907),\n",
       " (391.83673469387753, 39.920900274716587),\n",
       " (416.32653061224488, 39.918953699812654),\n",
       " (440.81632653061223, 39.917188501662977),\n",
       " (465.30612244897958, 39.915587764269461),\n",
       " (489.79591836734693, 39.914136153233279),\n",
       " (514.28571428571422, 39.912819767212476),\n",
       " (538.77551020408157, 39.91162600137644),\n",
       " (563.26530612244892, 39.910543427296972),\n",
       " (587.75510204081627, 39.90956168278332),\n",
       " (612.24489795918362, 39.908671370447998),\n",
       " (636.73469387755097, 39.90786397408182),\n",
       " (661.22448979591832, 39.907131769116447),\n",
       " (685.71428571428567, 39.906467749226373),\n",
       " (710.20408163265301, 39.905865565052046),\n",
       " (734.69387755102036, 39.905319453766843),\n",
       " (759.18367346938771, 39.904824195213031),\n",
       " (783.67346938775506, 39.904375050825081),\n",
       " (808.16326530612241, 39.903967727710565),\n",
       " (832.65306122448976, 39.903598330309663),\n",
       " (857.14285714285711, 39.903263326694841),\n",
       " (881.63265306122446, 39.902959514397047),\n",
       " (906.12244897959181, 39.902683988018865),\n",
       " (930.61224489795916, 39.902434114943276),\n",
       " (955.10204081632651, 39.902207505193672),\n",
       " (979.59183673469386, 39.902001993662019),\n",
       " (1004.0816326530612, 39.90181561454412),\n",
       " (1028.5714285714284, 39.901646587329189),\n",
       " (1053.0612244897959, 39.901493297554374),\n",
       " (1077.5510204081631, 39.901354278309675),\n",
       " (1102.0408163265306, 39.901228202069099),\n",
       " (1126.5306122448978, 39.901113862956187),\n",
       " (1151.0204081632653, 39.901010168173663),\n",
       " (1175.5102040816325, 39.900916127514868),\n",
       " (1200.0, 39.900830841170546)]"
      ]
     },
     "execution_count": 19,
     "metadata": {},
     "output_type": "execute_result"
    }
   ],
   "source": [
    "#res = odeint( model, initial, [0,40])\n",
    "#a = res[:,0]\n",
    "#print (a[1] - a[0])/(t[1]-t[0])\n",
    "\n",
    "# stężenie A po czasie:\n",
    "zip(t,a)\n",
    "# czas, [A]"
   ]
  },
  {
   "cell_type": "code",
   "execution_count": 20,
   "metadata": {
    "collapsed": false
   },
   "outputs": [
    {
     "name": "stdout",
     "output_type": "stream",
     "text": [
      "0.000380989065206\n"
     ]
    }
   ],
   "source": [
    "#print(t[1])\n",
    "\n",
    "#szybkość chwilowa na początku reakcji (t=...), przybliżenie v0\n",
    "\n",
    "print (a[0]-a[1])/(t[1]-t[0])\n"
   ]
  },
  {
   "cell_type": "markdown",
   "metadata": {},
   "source": [
    "### Przykład 2. Kinetyka drugiego rzędu"
   ]
  },
  {
   "cell_type": "code",
   "execution_count": 13,
   "metadata": {
    "collapsed": false
   },
   "outputs": [
    {
     "data": {
      "text/plain": [
       "<matplotlib.text.Text at 0x7f0fab0dad10>"
      ]
     },
     "execution_count": 13,
     "metadata": {},
     "output_type": "execute_result"
    },
    {
     "data": {
      "image/png": "[encoded data removed]",
      "text/plain": [
       "<matplotlib.figure.Figure at 0x7f0fab2c0410>"
      ]
     },
     "metadata": {},
     "output_type": "display_data"
    }
   ],
   "source": [
    "%matplotlib inline\n",
    "import matplotlib.pyplot as plt\n",
    "\n",
    "import numpy\n",
    "from scipy.integrate import odeint\n",
    "\n",
    "\n",
    "# A + B -> C\n",
    "\n",
    "def model(y, t):\n",
    "    \n",
    "    #a,b, c => stężenia [A] [B] [C]\n",
    "    a = y[0]\n",
    "    b = y[1]\n",
    "    c = y[2]\n",
    "    \n",
    "    k1 = 3e-3\n",
    "    \n",
    "    #model kinetyczny\n",
    "    dadt = -k1*a*b\n",
    "    dbdt = -k1*a*b\n",
    "    dcdt = k1*a*b\n",
    "    return [dadt, dbdt, dcdt]\n",
    "\n",
    "\n",
    "a0=2\n",
    "b0=1\n",
    "c0=0\n",
    "\n",
    "initial = [a0, b0, c0]\n",
    "t = numpy.linspace(0, 1200) # ts => time\n",
    "\n",
    "res = odeint( model, initial, t )\n",
    "a = res[:,0]\n",
    "b = res[:,1]\n",
    "c = res[:,2]\n",
    "\n",
    "plt.plot(t,a,'bo', label='[A]')\n",
    "plt.plot(t,b,'ro', label='[B]')\n",
    "plt.plot(t,c,'go', label='[C]')\n",
    "plt.legend(loc='upper left', bbox_to_anchor=(1, 0.5))\n",
    "plt.xlabel('Czas reakcji')\n",
    "plt.ylabel('Stezenie reagentow')"
   ]
  },
  {
   "cell_type": "markdown",
   "metadata": {},
   "source": [
    "**Zadanie 1.** Zbadać zachowanie się modelu dla następującego zestawów danych:\n",
    "\n",
    "a0 | b0 | c0 | k1\n",
    "--- | --- | --- | ---\n",
    "1 | 1 | 0 | 3e-3\n",
    "1 | 0| 0 | 3e-3\n",
    "2 | 1| 0 | 3e-3\n",
    "\n"
   ]
  },
  {
   "cell_type": "markdown",
   "metadata": {},
   "source": [
    "### Przykład 3. Kinetyka psudopierwszego rzędu\n",
    "\n"
   ]
  },
  {
   "cell_type": "code",
   "execution_count": 14,
   "metadata": {
    "collapsed": false
   },
   "outputs": [
    {
     "data": {
      "image/png": "[encoded data removed]",
      "text/plain": [
       "<matplotlib.figure.Figure at 0x7f0fab198890>"
      ]
     },
     "metadata": {},
     "output_type": "display_data"
    }
   ],
   "source": [
    "%matplotlib inline\n",
    "import matplotlib.pyplot as plt\n",
    "\n",
    "import numpy\n",
    "from scipy.integrate import odeint\n",
    "\n",
    "\n",
    "# A + B -> C\n",
    "\n",
    "def model(y, t):\n",
    "    \n",
    "    #a,b => stężenia [A] [B]\n",
    "    a = y[0]\n",
    "    b = y[1]\n",
    "    c = y[2]\n",
    "    \n",
    "    k1 = 1e-4\n",
    "    \n",
    "    #model kinetyczny\n",
    "    dadt = -k1*a*b\n",
    "    dbdt = -k1*a*b\n",
    "    dcdt = k1*a*b\n",
    "    return [dadt, dbdt, dcdt]\n",
    "\n",
    "\n",
    "a0=40\n",
    "b0=0.1\n",
    "c0=0\n",
    "\n",
    "initial = [a0, b0, c0]\n",
    "t = numpy.linspace(0, 1200) # ts => time\n",
    "\n",
    "res = odeint( model, initial, t )\n",
    "a = res[:,0]\n",
    "b = res[:,1]\n",
    "c = res[:,2]\n",
    "\n",
    "#plt.plot(t,a,'bo', label='[A]')\n",
    "plt.plot(t,b,'ro', label='[B]')\n",
    "plt.plot(t,c,'go', label='[C]')\n",
    "plt.legend(loc='upper left', bbox_to_anchor=(1, 0.5))\n",
    "plt.xlabel('Czas reakcji')\n",
    "plt.ylabel('Stezenie reagentow')\n",
    "plt.show()"
   ]
  },
  {
   "cell_type": "code",
   "execution_count": 15,
   "metadata": {
    "collapsed": false
   },
   "outputs": [
    {
     "data": {
      "image/png": "[encoded data removed]",
      "text/plain": [
       "<matplotlib.figure.Figure at 0x7f0fab41af10>"
      ]
     },
     "metadata": {},
     "output_type": "display_data"
    }
   ],
   "source": [
    "plt.plot(t,a,'bo', label='[A]')\n",
    "plt.legend(loc='upper left', bbox_to_anchor=(1, 0.5))\n",
    "plt.xlabel('Czas reakcji')\n",
    "plt.ylabel('Stezenie reagentow')\n",
    "plt.ylim(35,40) # zakres na osi Y\n",
    "plt.show()"
   ]
  },
  {
   "cell_type": "markdown",
   "metadata": {},
   "source": [
    "**Zadanie 2** Jaka jest końcowy stopień konwersji A, a jaki B?\n",
    "\n",
    "**Zadanie 3** Jak zmieni się szybkość początkowa reakcji gdy [A]0 = 41, 40, 39.8, 39 mol/L ?"
   ]
  },
  {
   "cell_type": "code",
   "execution_count": 16,
   "metadata": {
    "collapsed": false
   },
   "outputs": [
    {
     "name": "stdout",
     "output_type": "stream",
     "text": [
      "Konwersja końcowa A: 0.25%, konwersja B: 99.17%\n"
     ]
    }
   ],
   "source": [
    "alfa_a = 100-100*a[-1]/a[0] #a[-1] ostatni element w vektorze a, -1 to indeks ostatniego elementu\n",
    "alfa_b = 100-100*b[-1]/b[0] \n",
    "\n",
    "print(\"Konwersja końcowa A: {0:.2f}%, konwersja B: {1:.2f}%\".format(alfa_a, alfa_b))\n"
   ]
  },
  {
   "cell_type": "code",
   "execution_count": 17,
   "metadata": {
    "collapsed": false
   },
   "outputs": [
    {
     "name": "stdout",
     "output_type": "stream",
     "text": [
      "-0.000380989065206\n"
     ]
    }
   ],
   "source": [
    "#szybkość początkowa \n",
    "v0 = (b[1] - b[0])/(t[1]-t[0])\n",
    "\n",
    "\n",
    "print(v0)"
   ]
  },
  {
   "cell_type": "code",
   "execution_count": 7,
   "metadata": {
    "collapsed": false
   },
   "outputs": [
    {
     "data": {
      "text/plain": [
       "<matplotlib.text.Text at 0x7f0fab2fe0d0>"
      ]
     },
     "execution_count": 7,
     "metadata": {},
     "output_type": "execute_result"
    },
    {
     "data": {
      "image/png": "[encoded data removed]",
      "text/plain": [
       "<matplotlib.figure.Figure at 0x7f0fab2ed750>"
      ]
     },
     "metadata": {},
     "output_type": "display_data"
    }
   ],
   "source": [
    "%matplotlib inline\n",
    "import matplotlib.pyplot as plt\n",
    "\n",
    "import numpy\n",
    "from scipy.integrate import odeint\n",
    "\n",
    "\n",
    "# A -> B -> C\n",
    "\n",
    "def model(y, t):\n",
    "    \n",
    "    #a,b => stężenia [A] [B]\n",
    "    a = y[0]\n",
    "    b = y[1]\n",
    "    c = y[2]\n",
    "    \n",
    "    k1 = 1e-2\n",
    "    k2 = 5e-3\n",
    "    \n",
    "    #model kinetyczny\n",
    "    dadt = -k1*a         # da/dt = -k1a\n",
    "    dbdt = k1*a - k2*b   # db/dt = k1a-k2b\n",
    "    dcdt = k2*b          # dc/dt = k2b\n",
    "    return [dadt, dbdt, dcdt]\n",
    "\n",
    "\n",
    "\n",
    "initial = [2,0,0]\n",
    "t = numpy.linspace(0, 1200) # ts => time\n",
    "\n",
    "res = odeint( model, initial, t )\n",
    "a = res[:,0]\n",
    "b = res[:,1]\n",
    "c = res[:,2]\n",
    "\n",
    "plt.plot(t,a,'bo', label='[A]')\n",
    "plt.plot(t,b,'ro', label='[B]')\n",
    "plt.plot(t,c,'go', label='[C]')\n",
    "plt.legend(loc='upper left', bbox_to_anchor=(1, 0.5))\n",
    "plt.xlabel('Czas reakcji')\n",
    "plt.ylabel('Stezenie reagentow')"
   ]
  },
  {
   "cell_type": "markdown",
   "metadata": {},
   "source": [
    "**Zadanie 4.** Opracować model kinetyczny dla reakcji:\n",
    "\n",
    "1.Równoległych:\n",
    "$$ A \\rightarrow B , k_1=1\\cdot10^{-2}$$\n",
    "\n",
    "$$ A \\rightarrow C, k_2=2\\cdot10^{-2}$$\n",
    "\n",
    "\n",
    "2.Równowagowych:\n",
    "\n",
    "$$ A \\rightarrow B, k_1=4\\cdot10^{-3} $$\n",
    "$$ B \\rightarrow A, k_2=5\\cdot10^{-3} $$\n",
    "\n",
    "Rozwiązać numerycznie układy równań dla t = 0 ... 1200"
   ]
  },
  {
   "cell_type": "markdown",
   "metadata": {},
   "source": [
    "### Przykład 4. Kolejne modele kinetyczne\n",
    "\n",
    "\n",
    "$$ 2A \\rightarrow B , k_1=4\\cdot10^{-3}$$\n",
    "\n"
   ]
  },
  {
   "cell_type": "code",
   "execution_count": 21,
   "metadata": {
    "collapsed": false
   },
   "outputs": [
    {
     "data": {
      "text/plain": [
       "<matplotlib.text.Text at 0x7f0faae33c50>"
      ]
     },
     "execution_count": 21,
     "metadata": {},
     "output_type": "execute_result"
    },
    {
     "data": {
      "image/png": "[encoded data removed]",
      "text/plain": [
       "<matplotlib.figure.Figure at 0x7f0fab3f9650>"
      ]
     },
     "metadata": {},
     "output_type": "display_data"
    }
   ],
   "source": [
    "%matplotlib inline\n",
    "import matplotlib.pyplot as plt\n",
    "\n",
    "import numpy\n",
    "from scipy.integrate import odeint\n",
    "\n",
    "\n",
    "# 2A ---> B, k1\n",
    "# co jest równoważne:\n",
    "# A + A -----> B, k1\n",
    "# czyli:\n",
    "\n",
    "def model(y, t):\n",
    "    \n",
    "    #a,b => stężenia [A] [B]\n",
    "    a = y[0]\n",
    "    b = y[1]\n",
    "    \n",
    "    k1 = 4e-3\n",
    "    \n",
    "    #model kinetyczny\n",
    "    dadt = -k1*a*a - k1*a*a\n",
    "    dbdt = k1*a*a\n",
    "    return [dadt, dbdt]\n",
    "\n",
    "\n",
    "a0=2\n",
    "b0=0\n",
    "\n",
    "ts = 0\n",
    "te = 5000\n",
    "\n",
    "initial = [a0,b0]\n",
    "t = numpy.linspace(ts, te,100)\n",
    "\n",
    "res = odeint( model, initial, t )\n",
    "a = res[:,0]\n",
    "b = res[:,1]\n",
    "\n",
    "\n",
    "plt.plot(t,a,'b-', label='[A]')\n",
    "plt.plot(t,b,'r-', label='[B]')\n",
    "plt.plot((ts, te),(0.5*a0, 0.5*a0),'k:')\n",
    "\n",
    "plt.legend(loc='upper left', bbox_to_anchor=(1, 0.5))\n",
    "plt.xlabel('Czas reakcji')\n",
    "plt.ylabel('Stezenie reagentow')\n"
   ]
  },
  {
   "cell_type": "code",
   "execution_count": 27,
   "metadata": {
    "collapsed": false
   },
   "outputs": [
    {
     "name": "stdout",
     "output_type": "stream",
     "text": [
      "[ 2.024       2.02522154  2.02656652  2.02804723  2.02967711  2.03147092\n",
      "  2.03344481  2.03561643  2.03800509  2.04063188  2.04351976  2.04669384\n",
      "  2.0501814   2.05401208  2.0582181   2.06283433  2.06789852  2.0734514\n",
      "  2.07953684  2.08620199  2.09349735  2.10147686  2.1101979   2.11972134\n",
      "  2.13011139  2.14143546  2.15376397  2.16716996  2.18172865  2.19751682\n",
      "  2.21461209  2.233092    2.25303289  2.27450869  2.29758938  2.32233944\n",
      "  2.34881595  2.37706669  2.40712808  2.43902306  2.47275893  2.50832543\n",
      "  2.5456928   2.58481027  2.62560481  2.66798043  2.71181798  2.75697564\n",
      "  2.80329001  2.85057802  2.89863941  2.94725988  2.99621474  3.04527306\n",
      "  3.09420191  3.14277082  3.1907561   3.23794483  3.28413852  3.3291562\n",
      "  3.37283682  3.41504097  3.45565217  3.49457702  3.53174495  3.5671077\n",
      "  3.60063773  3.63232683  3.66218419  3.69023435  3.7165151   3.74107535\n",
      "  3.76397313  3.7852736   3.80504727  3.8233684   3.84031354  3.85596028\n",
      "  3.87038618  3.8836679   3.89588043  3.90709653  3.9173863   3.92681681\n",
      "  3.93545192  3.94335208  3.9505743   3.95717214  3.9631957   3.96869177\n",
      "  3.97370386  3.97827236  3.98243469  3.98622542  3.98967646  3.9928172\n",
      "  3.99567467  3.99827369  4.00063704  4.0027856 ]\n"
     ]
    }
   ],
   "source": [
    "# sprawdzenie --- bilans masy\n",
    "\n",
    "print(a + 2*b)"
   ]
  },
  {
   "cell_type": "markdown",
   "metadata": {},
   "source": [
    "---"
   ]
  },
  {
   "cell_type": "markdown",
   "metadata": {},
   "source": [
    "$$ 2A \\rightarrow B, k_1=8\\cdot10^{-4} $$\n",
    "$$ B \\rightarrow 2A, k_2=2\\cdot10^{-4} $$\n",
    "\n",
    "$$ t = 0 ... 5000 $$"
   ]
  },
  {
   "cell_type": "code",
   "execution_count": 23,
   "metadata": {
    "collapsed": false
   },
   "outputs": [
    {
     "data": {
      "text/plain": [
       "<matplotlib.text.Text at 0x7f0fab34bf10>"
      ]
     },
     "execution_count": 23,
     "metadata": {},
     "output_type": "execute_result"
    },
    {
     "data": {
      "image/png": "[encoded data removed]",
      "text/plain": [
       "<matplotlib.figure.Figure at 0x7f0fab0b1250>"
      ]
     },
     "metadata": {},
     "output_type": "display_data"
    }
   ],
   "source": [
    "%matplotlib inline\n",
    "import matplotlib.pyplot as plt\n",
    "\n",
    "import numpy\n",
    "from scipy.integrate import odeint\n",
    "\n",
    "\n",
    "# 2A <---> B, k1, k2\n",
    "# co jest równoważne:\n",
    "# A + A -----> B, k1\n",
    "# B -----> A + A, k2\n",
    "# czyli:\n",
    "\n",
    "def model(y, t):\n",
    "    \n",
    "    #a,b => stężenia [A] [B]\n",
    "    a = y[0]\n",
    "    b = y[1]\n",
    "    \n",
    "    k1 = 8e-4\n",
    "    k2 = 2e-4\n",
    "    \n",
    "    #model kinetyczny\n",
    "    dadt = -k1*a*a - k1*a*a + k2*b + k2*b\n",
    "    dbdt = k1*a*a - k2*b\n",
    "    return [dadt, dbdt]\n",
    "\n",
    "\n",
    "a0=2\n",
    "b0=0\n",
    "\n",
    "ts = 0\n",
    "te = 5000\n",
    "\n",
    "initial = [a0,b0]\n",
    "t = numpy.linspace(ts, te,100)\n",
    "\n",
    "res = odeint( model, initial, t )\n",
    "a = res[:,0]\n",
    "b = res[:,1]\n",
    "\n",
    "\n",
    "plt.plot(t,a,'b-', label='[A]')\n",
    "plt.plot(t,b,'r-', label='[B]')\n",
    "plt.plot((ts, te),(0.5*a0, 0.5*a0),'k:')\n",
    "\n",
    "plt.legend(loc='upper left', bbox_to_anchor=(1, 0.5))\n",
    "plt.xlabel('Czas reakcji')\n",
    "plt.ylabel('Stezenie reagentow')\n"
   ]
  },
  {
   "cell_type": "code",
   "execution_count": 24,
   "metadata": {
    "collapsed": false
   },
   "outputs": [
    {
     "name": "stdout",
     "output_type": "stream",
     "text": [
      "[ 2.  2.  2.  2.  2.  2.  2.  2.  2.  2.  2.  2.  2.  2.  2.  2.  2.  2.\n",
      "  2.  2.  2.  2.  2.  2.  2.  2.  2.  2.  2.  2.  2.  2.  2.  2.  2.  2.\n",
      "  2.  2.  2.  2.  2.  2.  2.  2.  2.  2.  2.  2.  2.  2.  2.  2.  2.  2.\n",
      "  2.  2.  2.  2.  2.  2.  2.  2.  2.  2.  2.  2.  2.  2.  2.  2.  2.  2.\n",
      "  2.  2.  2.  2.  2.  2.  2.  2.  2.  2.  2.  2.  2.  2.  2.  2.  2.  2.\n",
      "  2.  2.  2.  2.  2.  2.  2.  2.  2.  2.]\n"
     ]
    }
   ],
   "source": [
    "# sprawdzenie == bilans masy\n",
    "# czy [A] + 2*[B] = const ?\n",
    "print(a+2*b)"
   ]
  },
  {
   "cell_type": "markdown",
   "metadata": {},
   "source": [
    "### Przykład 5. Reakcje autokatalityczne"
   ]
  },
  {
   "cell_type": "code",
   "execution_count": 25,
   "metadata": {
    "collapsed": false
   },
   "outputs": [
    {
     "data": {
      "text/plain": [
       "<matplotlib.text.Text at 0x7f0faaf25e90>"
      ]
     },
     "execution_count": 25,
     "metadata": {},
     "output_type": "execute_result"
    },
    {
     "data": {
      "image/png": "[encoded data removed]",
      "text/plain": [
       "<matplotlib.figure.Figure at 0x7f0fab198910>"
      ]
     },
     "metadata": {},
     "output_type": "display_data"
    }
   ],
   "source": [
    "%matplotlib inline\n",
    "import matplotlib.pyplot as plt\n",
    "\n",
    "import numpy\n",
    "from scipy.integrate import odeint\n",
    "\n",
    "# Autocatalytic reactions are those in which at least one of the products is a reactant.\n",
    "# A + B ---> 2B k1\n",
    "\n",
    "k1 = 6e-4\n",
    "\n",
    "def model(y, t):\n",
    "    \n",
    "    #a,b => stężenia [A] [B]\n",
    "    a = y[0]\n",
    "    b = y[1]\n",
    "    \n",
    "    #model kinetyczny\n",
    "    dadt = -k1*a*b\n",
    "    dbdt =  k1*a*b    \n",
    "    return [dadt, dbdt]\n",
    "\n",
    "\n",
    "a0=2\n",
    "b0=0.012\n",
    "\n",
    "ts = 0\n",
    "te = 8000\n",
    "\n",
    "initial = [a0,b0]\n",
    "t = numpy.linspace(ts, te,100)\n",
    "\n",
    "res = odeint( model, initial, t )\n",
    "a = res[:,0]\n",
    "b = res[:,1]\n",
    "\n",
    "\n",
    "plt.plot(t,a,'b-', label='[A]')\n",
    "plt.plot(t,b,'r-', label='[B]')\n",
    "plt.plot((ts, te),(0.5*a0, 0.5*a0),'k:')\n",
    "\n",
    "plt.legend(loc='upper left', bbox_to_anchor=(1, 0.5))\n",
    "plt.xlabel('Czas reakcji')\n",
    "plt.ylabel('Stezenie reagentow')\n"
   ]
  },
  {
   "cell_type": "markdown",
   "metadata": {},
   "source": [
    "**Zadanie 5.** Prześledzić zależność szybkości reakcji autokatalitycznej v w funkcji czasu (sporządzić wykres). Czy zaobserwowane zjawisko jest sprzeczne z prawami kinetyki chemicznej?"
   ]
  },
  {
   "cell_type": "markdown",
   "metadata": {},
   "source": [
    "Odpowiedź jest poniżej - zajrzeć w ostateczności ..."
   ]
  },
  {
   "cell_type": "code",
   "execution_count": null,
   "metadata": {
    "collapsed": true
   },
   "outputs": [],
   "source": []
  },
  {
   "cell_type": "code",
   "execution_count": null,
   "metadata": {
    "collapsed": true
   },
   "outputs": [],
   "source": []
  },
  {
   "cell_type": "code",
   "execution_count": null,
   "metadata": {
    "collapsed": true
   },
   "outputs": [],
   "source": []
  },
  {
   "cell_type": "code",
   "execution_count": null,
   "metadata": {
    "collapsed": true
   },
   "outputs": [],
   "source": []
  },
  {
   "cell_type": "code",
   "execution_count": null,
   "metadata": {
    "collapsed": true
   },
   "outputs": [],
   "source": []
  },
  {
   "cell_type": "code",
   "execution_count": null,
   "metadata": {
    "collapsed": true
   },
   "outputs": [],
   "source": []
  },
  {
   "cell_type": "code",
   "execution_count": null,
   "metadata": {
    "collapsed": true
   },
   "outputs": [],
   "source": []
  },
  {
   "cell_type": "code",
   "execution_count": null,
   "metadata": {
    "collapsed": true
   },
   "outputs": [],
   "source": []
  },
  {
   "cell_type": "code",
   "execution_count": null,
   "metadata": {
    "collapsed": true
   },
   "outputs": [],
   "source": []
  },
  {
   "cell_type": "code",
   "execution_count": null,
   "metadata": {
    "collapsed": true
   },
   "outputs": [],
   "source": []
  },
  {
   "cell_type": "code",
   "execution_count": null,
   "metadata": {
    "collapsed": true
   },
   "outputs": [],
   "source": []
  },
  {
   "cell_type": "code",
   "execution_count": null,
   "metadata": {
    "collapsed": true
   },
   "outputs": [],
   "source": []
  },
  {
   "cell_type": "code",
   "execution_count": null,
   "metadata": {
    "collapsed": true
   },
   "outputs": [],
   "source": []
  },
  {
   "cell_type": "code",
   "execution_count": null,
   "metadata": {
    "collapsed": true
   },
   "outputs": [],
   "source": []
  },
  {
   "cell_type": "code",
   "execution_count": null,
   "metadata": {
    "collapsed": true
   },
   "outputs": [],
   "source": []
  },
  {
   "cell_type": "code",
   "execution_count": null,
   "metadata": {
    "collapsed": true
   },
   "outputs": [],
   "source": []
  },
  {
   "cell_type": "code",
   "execution_count": null,
   "metadata": {
    "collapsed": true
   },
   "outputs": [],
   "source": []
  },
  {
   "cell_type": "code",
   "execution_count": null,
   "metadata": {
    "collapsed": true
   },
   "outputs": [],
   "source": []
  },
  {
   "cell_type": "code",
   "execution_count": null,
   "metadata": {
    "collapsed": true
   },
   "outputs": [],
   "source": []
  },
  {
   "cell_type": "code",
   "execution_count": null,
   "metadata": {
    "collapsed": true
   },
   "outputs": [],
   "source": []
  },
  {
   "cell_type": "code",
   "execution_count": null,
   "metadata": {
    "collapsed": true
   },
   "outputs": [],
   "source": []
  },
  {
   "cell_type": "code",
   "execution_count": null,
   "metadata": {
    "collapsed": true
   },
   "outputs": [],
   "source": []
  },
  {
   "cell_type": "code",
   "execution_count": null,
   "metadata": {
    "collapsed": true
   },
   "outputs": [],
   "source": []
  },
  {
   "cell_type": "code",
   "execution_count": 28,
   "metadata": {
    "collapsed": false
   },
   "outputs": [
    {
     "data": {
      "text/plain": [
       "<matplotlib.text.Text at 0x7f0fab0e5090>"
      ]
     },
     "execution_count": 28,
     "metadata": {},
     "output_type": "execute_result"
    },
    {
     "data": {
      "image/png": "[encoded data removed]",
      "text/plain": [
       "<matplotlib.figure.Figure at 0x7f0faae635d0>"
      ]
     },
     "metadata": {},
     "output_type": "display_data"
    }
   ],
   "source": [
    "plt.plot(t,k1*a*b, 'c-')\n",
    "plt.xlabel('Czas')\n",
    "plt.ylabel('Szybkosc reakcji autokatalitycznej, mol/Ls')"
   ]
  }
 ],
 "metadata": {
  "kernelspec": {
   "display_name": "Python 2",
   "language": "python",
   "name": "python2"
  },
  "language_info": {
   "codemirror_mode": {
    "name": "ipython",
    "version": 2
   },
   "file_extension": ".py",
   "mimetype": "text/x-python",
   "name": "python",
   "nbconvert_exporter": "python",
   "pygments_lexer": "ipython2",
   "version": "2.7.10"
  }
 },
 "nbformat": 4,
 "nbformat_minor": 0
}
